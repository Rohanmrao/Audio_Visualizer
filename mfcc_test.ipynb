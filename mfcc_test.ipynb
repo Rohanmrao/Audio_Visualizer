{
 "cells": [
  {
   "cell_type": "code",
   "execution_count": 3,
   "metadata": {},
   "outputs": [],
   "source": [
    "# imoprt libraries\n",
    "import pandas as pd\n",
    "import numpy as np\n",
    "import seaborn as sns\n",
    "import matplotlib.pyplot as plt\n",
    "%matplotlib inline\n",
    "\n",
    "from glob import glob # allows us to list all files to a directory\n",
    "import IPython\n",
    "import IPython.display as ipd # to play the Audio Files\n",
    "\n",
    "import librosa # main package for working with Audio Data\n",
    "import librosa.display"
   ]
  },
  {
   "cell_type": "code",
   "execution_count": 4,
   "metadata": {},
   "outputs": [],
   "source": [
    "y, sr = librosa.load(\"C:/Users/Rohan Mahesh Rao/Documents/PES1UG20EC156/Sem 6/ML/project/gtzan/Data/genres_original/jazz/jazz.00069.wav\", sr=None)"
   ]
  },
  {
   "cell_type": "code",
   "execution_count": 5,
   "metadata": {},
   "outputs": [],
   "source": [
    "def get_mfcc(y,sr):\n",
    "\n",
    "    # Mel-frequency cepstral coefficients (MFCCs)\n",
    "    mfcc = librosa.feature.mfcc(y=y, sr=sr, n_mfcc=20)\n",
    "    mfcc_mean_vars = []\n",
    " \n",
    "    for i in range (20):\n",
    "\n",
    "        mfcc_mean_vars.append(np.mean(mfcc[i]))\n",
    "        mfcc_mean_vars.append(np.var(mfcc[i]))\n",
    "\n",
    "    mfcc_mean_vars = np.array(mfcc_mean_vars)\n",
    "\n",
    "    mfcc_mean_vars = mfcc_mean_vars.tolist()\n",
    "\n",
    "    return mfcc_mean_vars\n",
    "        "
   ]
  },
  {
   "cell_type": "code",
   "execution_count": 6,
   "metadata": {},
   "outputs": [
    {
     "name": "stdout",
     "output_type": "stream",
     "text": [
      "[-159.17877197265625, 3108.892578125, 92.01376342773438, 526.615234375, -16.731046676635742, 535.7506103515625, 27.372528076171875, 222.92074584960938, 6.108613967895508, 79.32209777832031, 3.2374398708343506, 99.27803039550781, 7.151188850402832, 88.53431701660156, 4.0272979736328125, 96.40103149414062, 3.5904974937438965, 203.33941650390625, 3.5372068881988525, 95.38407897949219, -0.5802279710769653, 73.9168930053711, -3.720458507537842, 94.98578643798828, -4.718691825866699, 88.52208709716797, -2.5912668704986572, 86.84146118164062, -3.2932932376861572, 70.31222534179688, -3.5358469486236572, 45.100196838378906, -0.8823036551475525, 68.28234100341797, -2.305814027786255, 128.94329833984375, -0.9493577480316162, 146.18565368652344, -5.453778266906738, 125.247314453125]\n",
      "<class 'list'>\n"
     ]
    }
   ],
   "source": [
    "obj = get_mfcc(y,sr)\n",
    "print(obj)\n",
    "print(type(obj))"
   ]
  }
 ],
 "metadata": {
  "kernelspec": {
   "display_name": "base",
   "language": "python",
   "name": "python3"
  },
  "language_info": {
   "codemirror_mode": {
    "name": "ipython",
    "version": 3
   },
   "file_extension": ".py",
   "mimetype": "text/x-python",
   "name": "python",
   "nbconvert_exporter": "python",
   "pygments_lexer": "ipython3",
   "version": "3.9.13"
  },
  "orig_nbformat": 4
 },
 "nbformat": 4,
 "nbformat_minor": 2
}
