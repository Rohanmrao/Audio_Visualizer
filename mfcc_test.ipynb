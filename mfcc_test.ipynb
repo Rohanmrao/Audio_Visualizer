{
 "cells": [
  {
   "cell_type": "code",
   "execution_count": 1,
   "metadata": {},
   "outputs": [],
   "source": [
    "# imoprt libraries\n",
    "import pandas as pd\n",
    "import numpy as np\n",
    "import seaborn as sns\n",
    "import matplotlib.pyplot as plt\n",
    "%matplotlib inline\n",
    "\n",
    "from glob import glob # allows us to list all files to a directory\n",
    "import IPython\n",
    "import IPython.display as ipd # to play the Audio Files\n",
    "\n",
    "import librosa # main package for working with Audio Data\n",
    "import librosa.display"
   ]
  },
  {
   "cell_type": "code",
   "execution_count": 2,
   "metadata": {},
   "outputs": [],
   "source": [
    "y, sr = librosa.load(\"C:/Users/Rohan Mahesh Rao/Documents/PES1UG20EC156/Sem 6/ML/project/gtzan/Data/genres_original/jazz/jazz.00069.wav\", sr=None)"
   ]
  },
  {
   "cell_type": "code",
   "execution_count": 20,
   "metadata": {},
   "outputs": [],
   "source": [
    "def get_mfcc(y,sr):\n",
    "\n",
    "    # Mel-frequency cepstral coefficients (MFCCs)\n",
    "    mfcc = librosa.feature.mfcc(y=y, sr=sr, n_mfcc=20)\n",
    "    mfcc_mean_vars = []\n",
    " \n",
    "    for i in range (20):\n",
    "\n",
    "        mfcc_mean_vars.append(np.mean(mfcc[i]))\n",
    "        mfcc_mean_vars.append(np.var(mfcc[i]))\n",
    "\n",
    "    mfcc_mean_vars = np.array(mfcc_mean_vars)\n",
    "\n",
    "    mfcc_mean_vars = mfcc_mean_vars.tolist()\n",
    "\n",
    "    return mfcc_mean_vars\n",
    "        "
   ]
  },
  {
   "cell_type": "code",
   "execution_count": 21,
   "metadata": {},
   "outputs": [
    {
     "name": "stdout",
     "output_type": "stream",
     "text": [
      "[-1.59178772e+02  3.10889258e+03  9.20137634e+01  5.26615234e+02\n",
      " -1.67310467e+01  5.35750610e+02  2.73725281e+01  2.22920746e+02\n",
      "  6.10861397e+00  7.93220978e+01  3.23743987e+00  9.92780304e+01\n",
      "  7.15118885e+00  8.85343170e+01  4.02729797e+00  9.64010315e+01\n",
      "  3.59049749e+00  2.03339417e+02  3.53720689e+00  9.53840790e+01\n",
      " -5.80227971e-01  7.39168930e+01 -3.72045851e+00  9.49857864e+01\n",
      " -4.71869183e+00  8.85220871e+01 -2.59126687e+00  8.68414612e+01\n",
      " -3.29329324e+00  7.03122253e+01 -3.53584695e+00  4.51001968e+01\n",
      " -8.82303655e-01  6.82823410e+01 -2.30581403e+00  1.28943298e+02\n",
      " -9.49357748e-01  1.46185654e+02 -5.45377827e+00  1.25247314e+02]\n"
     ]
    }
   ],
   "source": [
    "get_mfcc(y,sr)"
   ]
  }
 ],
 "metadata": {
  "kernelspec": {
   "display_name": "base",
   "language": "python",
   "name": "python3"
  },
  "language_info": {
   "codemirror_mode": {
    "name": "ipython",
    "version": 3
   },
   "file_extension": ".py",
   "mimetype": "text/x-python",
   "name": "python",
   "nbconvert_exporter": "python",
   "pygments_lexer": "ipython3",
   "version": "3.9.13"
  },
  "orig_nbformat": 4
 },
 "nbformat": 4,
 "nbformat_minor": 2
}
